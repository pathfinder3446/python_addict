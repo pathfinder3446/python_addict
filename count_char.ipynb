Count the number of each letter in a sentence.

-The department you work for undertook a project construction that makes word / text analysis. You are asked to calculate the number of letters or any chars in the sentences entered under this project.
-Write a Python program that;

1. takes a sentence from the user,
2. counts the number of each letter/chars of the sentence,
3. collects the letters/chars as a key and the counted numbers as a value in a dictionary.

my_sentence = input("Please enter a sentence for checking char numbers: ").lower()

def count_char(x) :
    count_dict = {}
    for i in x:
        if i in count_dict:
            count_dict[i] += 1
        else:
            count_dict[i] = 1
    return count_dict
print(my_sentence)
print(count_char(my_sentence))
